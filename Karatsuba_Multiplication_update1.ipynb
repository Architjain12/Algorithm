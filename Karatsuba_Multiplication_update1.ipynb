{
 "cells": [
  {
   "cell_type": "markdown",
   "metadata": {},
   "source": [
    "### Let x and y be two number"
   ]
  },
  {
   "cell_type": "markdown",
   "metadata": {},
   "source": [
    "### We define 4 more number, \"a\" , \"b\" , \"c\" , \"d\". Such that, x=((10)^(n/2))*a+b and y=((10)^(n/2))*c+d\n"
   ]
  },
  {
   "cell_type": "markdown",
   "metadata": {},
   "source": [
    "## From karatsuba algo: x*y= (10^n)*a*c + (10^n/2)*(a*d+b*c) + b*d"
   ]
  },
  {
   "cell_type": "code",
   "execution_count": 127,
   "metadata": {},
   "outputs": [],
   "source": [
    "def power(l):\n",
    "    if l/2==l//2:\n",
    "        return l//2\n",
    "    else:\n",
    "        return l//2 +1\n",
    "def mul(n1,n2):\n",
    "    if int(n1)<10 and int(n2)<10:\n",
    "        return int(n1)*int(n2)\n",
    "    else:\n",
    "        return short(n1,n2)\n",
    "    \n",
    "def karatsuba(a,b,c,d,n,m):\n",
    "    ac=mul(a,c)\n",
    "    bd=mul(b,d)\n",
    "    ad_bc=mul(str(int(a)+int(b)),str(int(c)+int(d)))\n",
    "    ans=(10**n)*(ac)+(10**int(m))*(ad_bc-ac-bd) + bd\n",
    "    return ans\n",
    "\n",
    "def short(x,y):\n",
    "    if len(x)==1:\n",
    "        a='0'\n",
    "        b=x[0]\n",
    "        if len(y)%2==0:\n",
    "            half_len_y=int(len(y)/2)\n",
    "        else:\n",
    "            half_len_y=int(len(y)/2)+1\n",
    "        c=y[:half_len_y]\n",
    "        d=y[half_len_y:]\n",
    "    elif len(y)==1:\n",
    "        c='0'\n",
    "        d=y[0]\n",
    "        if len(x)%2==0:\n",
    "            half_len_x=int(len(x)/2)\n",
    "        else:\n",
    "            half_len_x=int(len(x)/2)+1\n",
    "        a=x[:half_len_x]\n",
    "        b=x[half_len_x:]\n",
    "    else:\n",
    "        if len(y)%2==0:\n",
    "            half_len_y=int(len(y)/2)\n",
    "        else:\n",
    "            half_len_y=int(len(y)/2)+1\n",
    "        c=y[:half_len_y]\n",
    "        d=y[half_len_y:]\n",
    "        \n",
    "        if len(x)%2==0:\n",
    "            half_len_x=int(len(x)/2)\n",
    "        else:\n",
    "            half_len_x=int(len(x)/2)+1\n",
    "        a=x[:half_len_x]\n",
    "        b=x[half_len_x:]\n",
    "        \n",
    "\n",
    "    if len(x)==len(y):\n",
    "        if len(x)%2==0:\n",
    "            n=len(x)\n",
    "            m=n//2\n",
    "        else:\n",
    "            n=len(x)//2+1\n",
    "            m=n//2\n",
    "    else:\n",
    "        if len(x)>len(y):\n",
    "            n=power(len(x))\n",
    "            m=power(len(y))\n",
    "        else:\n",
    "            n=power(len(y))\n",
    "            m=power(len(x))\n",
    "    ans=karatsuba(a,b,c,d,n,m)\n",
    "    return ans"
   ]
  },
  {
   "cell_type": "code",
   "execution_count": 128,
   "metadata": {},
   "outputs": [],
   "source": [
    "#import maths\n",
    "#math.log(num,base=2)\n",
    "# but since maths module is not installed\n",
    "# using alternative approch\n",
    "def log(num):\n",
    "    base=2\n",
    "    lower_limit=0\n",
    "    upper_limit=0\n",
    "    temp=num\n",
    "    while num>1:\n",
    "        num=num/2\n",
    "        upper_limit+=1\n",
    "    while temp>1:\n",
    "        temp=temp//2\n",
    "        lower_limit+=1\n",
    "    return lower_limit, upper_limit\n",
    "\n",
    "def zeropad(num,pad):\n",
    "    for i in range(pad):\n",
    "        num='0'+num\n",
    "    return num\n",
    "\n",
    "def preprocessing(x,y):                  # x,y are str\n",
    "    len_x=len(x)\n",
    "    len_y=len(y)\n",
    "    log_x=log(len_x)\n",
    "    log_y=log(len_y)\n",
    "    if log_x[1]>log_y[1]:\n",
    "        if log(len_x)[0]==log(len_x)[1]:\n",
    "            pass\n",
    "        else:\n",
    "            pad_x=2**log_x[1]-len_x\n",
    "            x=zeropad(x,pad_x)\n",
    "        pad_y=2**log_x[1]-len_y\n",
    "        y=zeropad(y,pad_y)\n",
    "    else:\n",
    "        if log(len_y)[0]==log(len_y)[1]:\n",
    "            pass\n",
    "        else:\n",
    "            pad_y=2**log_y[1]-len_y\n",
    "            y=zeropad(y,pad_y)\n",
    "        pad_x=2**log_y[1]-len_x\n",
    "        x=zeropad(x,pad_x)\n",
    "    return x,y"
   ]
  },
  {
   "cell_type": "code",
   "execution_count": 134,
   "metadata": {},
   "outputs": [
    {
     "name": "stdout",
     "output_type": "stream",
     "text": [
      "Enter num1: 12345678\n",
      "Enter num2: 1234567812345678\n",
      "0000000012345678 1234567812345678\n",
      "15241576680384165279684\n"
     ]
    }
   ],
   "source": [
    "x=input(\"Enter num1: \")\n",
    "y=input(\"Enter num2: \")\n",
    "x,y=preprocessing(x,y)\n",
    "print(x,y)\n",
    "print(short(x,y))"
   ]
  },
  {
   "cell_type": "code",
   "execution_count": 135,
   "metadata": {},
   "outputs": [
    {
     "data": {
      "text/plain": [
       "15241576680384165279684"
      ]
     },
     "execution_count": 135,
     "metadata": {},
     "output_type": "execute_result"
    }
   ],
   "source": [
    "int(x)*int(y)"
   ]
  },
  {
   "cell_type": "markdown",
   "metadata": {},
   "source": [
    "# Work if both number has length such that, logarithmic difference of their length is less than 1.\n",
    "#ex. len_x=4 then len_y can be between [4,8], both included."
   ]
  }
 ],
 "metadata": {
  "kernelspec": {
   "display_name": "Python 3",
   "language": "python",
   "name": "python3"
  },
  "language_info": {
   "codemirror_mode": {
    "name": "ipython",
    "version": 3
   },
   "file_extension": ".py",
   "mimetype": "text/x-python",
   "name": "python",
   "nbconvert_exporter": "python",
   "pygments_lexer": "ipython3",
   "version": "3.7.6"
  }
 },
 "nbformat": 4,
 "nbformat_minor": 4
}
