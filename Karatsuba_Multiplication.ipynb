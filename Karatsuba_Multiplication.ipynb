{
 "cells": [
  {
   "cell_type": "markdown",
   "metadata": {},
   "source": [
    "### Let x and y be two number"
   ]
  },
  {
   "cell_type": "markdown",
   "metadata": {},
   "source": [
    "### We define 4 more number, \"a\" , \"b\" , \"c\" , \"d\". Such that, x=((10)^(n/2))*a+b and y=((10)^(n/2))*c+d\n"
   ]
  },
  {
   "cell_type": "markdown",
   "metadata": {},
   "source": [
    "## From karatsuba algo: x*y= (10^n)*a*c + (10^n/2)*(a*d+b*c) + b*d"
   ]
  },
  {
   "cell_type": "code",
   "execution_count": 59,
   "metadata": {},
   "outputs": [],
   "source": [
    "def power(l):\n",
    "    if l/2==l//2:\n",
    "        return l//2\n",
    "    else:\n",
    "        return l//2 +1\n",
    "def mul(n1,n2):\n",
    "    if int(n1)<10 and int(n2)<10:\n",
    "        return int(n1)*int(n2)\n",
    "    else:\n",
    "        return short(n1,n2)\n",
    "    \n",
    "def karatsuba(a,b,c,d,n,m):\n",
    "    ac=mul(a,c)\n",
    "    bd=mul(b,d)\n",
    "    ad_bc=mul(str(int(a)+int(b)),str(int(c)+int(d)))\n",
    "    ans=(10**n)*(ac)+(10**int(m))*(ad_bc-ac-bd) + bd\n",
    "    #print(\"ans===============\",a,c,ans)\n",
    "    return ans\n",
    "\n",
    "def short(x,y):\n",
    "    if len(x)==1:\n",
    "        a='0'\n",
    "        b=x[0]\n",
    "        if len(y)%2==0:\n",
    "            half_len_y=int(len(y)/2)\n",
    "        else:\n",
    "            half_len_y=int(len(y)/2)+1\n",
    "        c=y[:half_len_y]\n",
    "        d=y[half_len_y:]\n",
    "        #print(\"x=1\",a,b,c,d)\n",
    "    elif len(y)==1:\n",
    "        c='0'\n",
    "        d=y[0]\n",
    "        if len(x)%2==0:\n",
    "            half_len_x=int(len(x)/2)\n",
    "        else:\n",
    "            half_len_x=int(len(x)/2)+1\n",
    "        a=x[:half_len_x]\n",
    "        b=x[half_len_x:]\n",
    "        #print(\"y=1\",a,b,c,d)\n",
    "    else:\n",
    "        if len(y)%2==0:\n",
    "            half_len_y=int(len(y)/2)\n",
    "        else:\n",
    "            half_len_y=int(len(y)/2)+1\n",
    "        c=y[:half_len_y]\n",
    "        d=y[half_len_y:]\n",
    "        \n",
    "        if len(x)%2==0:\n",
    "            half_len_x=int(len(x)/2)\n",
    "        else:\n",
    "            half_len_x=int(len(x)/2)+1\n",
    "        a=x[:half_len_x]\n",
    "        b=x[half_len_x:]\n",
    "        \n",
    "\n",
    "    if len(x)==len(y):\n",
    "        if len(x)%2==0:\n",
    "            n=len(x)\n",
    "            m=n//2\n",
    "        else:\n",
    "            n=len(x)//2+1\n",
    "            m=n//2\n",
    "    else:\n",
    "        if len(x)>len(y):\n",
    "            n=power(len(x))\n",
    "            m=power(len(y))\n",
    "        else:\n",
    "            n=power(len(y))\n",
    "            m=power(len(x))\n",
    "    #print(a,b,c,d,n,m)\n",
    "    ans=karatsuba(a,b,c,d,n,m)\n",
    "    return ans"
   ]
  },
  {
   "cell_type": "code",
   "execution_count": 60,
   "metadata": {},
   "outputs": [
    {
     "name": "stdout",
     "output_type": "stream",
     "text": [
      "Enter num1: 2311\n",
      "Enter num2: 2199\n",
      "5081889\n"
     ]
    }
   ],
   "source": [
    "x=input(\"Enter num1: \")\n",
    "y=input(\"Enter num2: \")\n",
    "print(short(x,y))"
   ]
  },
  {
   "cell_type": "code",
   "execution_count": 61,
   "metadata": {},
   "outputs": [
    {
     "data": {
      "text/plain": [
       "5081889"
      ]
     },
     "execution_count": 61,
     "metadata": {},
     "output_type": "execute_result"
    }
   ],
   "source": [
    "2311*2199"
   ]
  },
  {
   "cell_type": "markdown",
   "metadata": {},
   "source": [
    "# Work all number of length 2,4,8,16,32,64....."
   ]
  }
 ],
 "metadata": {
  "kernelspec": {
   "display_name": "Python 3",
   "language": "python",
   "name": "python3"
  },
  "language_info": {
   "codemirror_mode": {
    "name": "ipython",
    "version": 3
   },
   "file_extension": ".py",
   "mimetype": "text/x-python",
   "name": "python",
   "nbconvert_exporter": "python",
   "pygments_lexer": "ipython3",
   "version": "3.7.6"
  }
 },
 "nbformat": 4,
 "nbformat_minor": 4
}
